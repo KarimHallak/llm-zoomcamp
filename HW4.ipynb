{
 "cells": [
  {
   "cell_type": "code",
   "execution_count": 4,
   "id": "e1ba4bed-d569-40b7-bf88-de9c647b2c01",
   "metadata": {},
   "outputs": [
    {
     "name": "stderr",
     "output_type": "stream",
     "text": [
      "You try to use a model that was created with version 3.0.0.dev0, however, your version is 2.7.0. This might cause unexpected behavior or errors. In that case, try to update to the latest version.\n",
      "\n",
      "\n",
      "\n"
     ]
    },
    {
     "name": "stdout",
     "output_type": "stream",
     "text": [
      "Q1: -0.42244655\n"
     ]
    },
    {
     "data": {
      "application/vnd.jupyter.widget-view+json": {
       "model_id": "e26b9cb1a3d74531a70aa62111d859ae",
       "version_major": 2,
       "version_minor": 0
      },
      "text/plain": [
       "Computing dot products:   0%|          | 0/300 [00:00<?, ?it/s]"
      ]
     },
     "metadata": {},
     "output_type": "display_data"
    },
    {
     "name": "stdout",
     "output_type": "stream",
     "text": [
      "Q2: 12.758448123931885\n"
     ]
    },
    {
     "data": {
      "application/vnd.jupyter.widget-view+json": {
       "model_id": "799baf5882084a3c97e83ac2ce195ed4",
       "version_major": 2,
       "version_minor": 0
      },
      "text/plain": [
       "Computing cosine similarities:   0%|          | 0/300 [00:00<?, ?it/s]"
      ]
     },
     "metadata": {},
     "output_type": "display_data"
    },
    {
     "name": "stdout",
     "output_type": "stream",
     "text": [
      "Q3: 0.3429045081138611\n",
      "Q4: 0.45454544954545456\n",
      "Q5: 0.35490034990035496\n"
     ]
    },
    {
     "data": {
      "application/vnd.jupyter.widget-view+json": {
       "model_id": "81d05d3334404dedad0173acb5905479",
       "version_major": 2,
       "version_minor": 0
      },
      "text/plain": [
       "Computing average ROUGE scores:   0%|          | 0/300 [00:00<?, ?it/s]"
      ]
     },
     "metadata": {},
     "output_type": "display_data"
    },
    {
     "name": "stdout",
     "output_type": "stream",
     "text": [
      "Q6: 0.20696501983423318\n"
     ]
    }
   ],
   "source": [
    "import pandas as pd\n",
    "import numpy as np\n",
    "from sentence_transformers import SentenceTransformer\n",
    "from rouge import Rouge\n",
    "from tqdm.auto import tqdm\n",
    "\n",
    "# Load the dataset\n",
    "github_url = 'https://github.com/DataTalksClub/llm-zoomcamp/blob/main/04-monitoring/data/results-gpt4o-mini.csv'\n",
    "url = f'{github_url}?raw=1'\n",
    "df = pd.read_csv(url)\n",
    "df = df.iloc[:300]\n",
    "\n",
    "# Load the embeddings model\n",
    "model_name = \"multi-qa-mpnet-base-dot-v1\"\n",
    "embedding_model = SentenceTransformer(model_name)\n",
    "\n",
    "# Q1: Create embeddings for the first LLM answer and get the first value of the resulting vector\n",
    "answer_llm = df.iloc[0].answer_llm\n",
    "embedding = embedding_model.encode(answer_llm)\n",
    "first_value = embedding[0]\n",
    "print(\"Q1:\", first_value)\n",
    "\n",
    "# Q2: Compute the dot product for each answer pair and determine the 75% percentile of the score\n",
    "evaluations = []\n",
    "for i in tqdm(range(len(df)), desc=\"Computing dot products\"):\n",
    "    answer1 = df.iloc[i].answer_llm\n",
    "    embedding1 = embedding_model.encode(answer1)\n",
    "    for j in range(i+1, len(df)):\n",
    "        answer2 = df.iloc[j].answer_llm\n",
    "        embedding2 = embedding_model.encode(answer2)\n",
    "        score = np.dot(embedding1, embedding2)\n",
    "        evaluations.append(score)\n",
    "\n",
    "percentile_75 = np.percentile(evaluations, 75)\n",
    "print(\"Q2:\", percentile_75)\n",
    "\n",
    "# Q3: Normalize the vectors and compute the cosine similarity, then determine the 75% percentile of the scores\n",
    "def normalize_vector(v):\n",
    "    norm = np.sqrt((v * v).sum())\n",
    "    return v / norm\n",
    "\n",
    "cosine_scores = []\n",
    "for i in tqdm(range(len(df)), desc=\"Computing cosine similarities\"):\n",
    "    answer1 = df.iloc[i].answer_llm\n",
    "    embedding1 = normalize_vector(embedding_model.encode(answer1))\n",
    "    for j in range(i+1, len(df)):\n",
    "        answer2 = df.iloc[j].answer_llm\n",
    "        embedding2 = normalize_vector(embedding_model.encode(answer2))\n",
    "        cosine_score = np.dot(embedding1, embedding2)\n",
    "        cosine_scores.append(cosine_score)\n",
    "\n",
    "percentile_75_cosine = np.percentile(cosine_scores, 75)\n",
    "print(\"Q3:\", percentile_75_cosine)\n",
    "\n",
    "# Q4: Compute the ROUGE score for specific documents and determine the F1 score for rouge-1\n",
    "rouge_scorer = Rouge()\n",
    "index = 10\n",
    "r = df.iloc[index]\n",
    "scores = rouge_scorer.get_scores(r['answer_llm'], r['answer_orig'])[0]\n",
    "f_score_rouge_1 = scores['rouge-1']['f']\n",
    "print(\"Q4:\", f_score_rouge_1)\n",
    "\n",
    "# Q5: Compute the average ROUGE score for the same record\n",
    "average_rouge = (scores['rouge-1']['f'] + scores['rouge-2']['f'] + scores['rouge-l']['f']) / 3\n",
    "print(\"Q5:\", average_rouge)\n",
    "\n",
    "# Q6: Compute the average ROUGE score for all data points\n",
    "rouge_1_scores = []\n",
    "rouge_2_scores = []\n",
    "rouge_l_scores = []\n",
    "\n",
    "for i in tqdm(range(len(df)), desc=\"Computing average ROUGE scores\"):\n",
    "    r = df.iloc[i]\n",
    "    scores = rouge_scorer.get_scores(r['answer_llm'], r['answer_orig'])[0]\n",
    "    rouge_1_scores.append(scores['rouge-1']['f'])\n",
    "    rouge_2_scores.append(scores['rouge-2']['f'])\n",
    "    rouge_l_scores.append(scores['rouge-l']['f'])\n",
    "\n",
    "average_rouge_2 = np.mean(rouge_2_scores)\n",
    "print(\"Q6:\", average_rouge_2)\n"
   ]
  },
  {
   "cell_type": "code",
   "execution_count": 2,
   "id": "c91c710b-a4e1-4c29-97e0-6a67e5398bad",
   "metadata": {},
   "outputs": [
    {
     "name": "stdout",
     "output_type": "stream",
     "text": [
      "Collecting rouge\n",
      "  Downloading rouge-1.0.1-py3-none-any.whl.metadata (4.1 kB)\n",
      "Requirement already satisfied: six in /home/codespace/.local/lib/python3.10/site-packages (from rouge) (1.16.0)\n",
      "Downloading rouge-1.0.1-py3-none-any.whl (13 kB)\n",
      "Installing collected packages: rouge\n",
      "Successfully installed rouge-1.0.1\n"
     ]
    }
   ],
   "source": [
    "!pip install rouge\n"
   ]
  },
  {
   "cell_type": "code",
   "execution_count": null,
   "id": "5c7c6af6-a343-4e6c-9817-255851a9eafe",
   "metadata": {},
   "outputs": [],
   "source": []
  }
 ],
 "metadata": {
  "kernelspec": {
   "display_name": "Python 3 (ipykernel)",
   "language": "python",
   "name": "python3"
  },
  "language_info": {
   "codemirror_mode": {
    "name": "ipython",
    "version": 3
   },
   "file_extension": ".py",
   "mimetype": "text/x-python",
   "name": "python",
   "nbconvert_exporter": "python",
   "pygments_lexer": "ipython3",
   "version": "3.10.13"
  }
 },
 "nbformat": 4,
 "nbformat_minor": 5
}
